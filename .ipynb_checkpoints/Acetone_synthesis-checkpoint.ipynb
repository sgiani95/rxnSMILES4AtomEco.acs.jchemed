{
 "cells": [
  {
   "cell_type": "markdown",
   "id": "7d6f3e1a-85b2-4d73-bc62-f9268fb6d007",
   "metadata": {},
   "source": [
    "### The Acetone synthesis\n",
    "\n",
    "1. Cumene hydroperoxide decomposition\\\n",
    "CC(C)(OO)c1ccccc1>acid>CC(C)=O\n",
    "2. Isopropanol dehydrogenation\\\n",
    "CC(C)O>Cu>CC(C)=O\n",
    "3. Propene hydration/oxidation\\\n",
    "{2}C=CC.O=O>Pd/Cu>{2}CC(C)=O"
   ]
  },
  {
   "cell_type": "code",
   "execution_count": 1,
   "id": "ca6fa84e-d17d-4ce0-8149-9c512d4e540a",
   "metadata": {},
   "outputs": [
    {
     "ename": "ModuleNotFoundError",
     "evalue": "No module named 'rdkit'",
     "output_type": "error",
     "traceback": [
      "\u001b[0;31m---------------------------------------------------------------------------\u001b[0m",
      "\u001b[0;31mModuleNotFoundError\u001b[0m                       Traceback (most recent call last)",
      "\u001b[0;32m/tmp/ipykernel_8206/3872872071.py\u001b[0m in \u001b[0;36m<module>\u001b[0;34m\u001b[0m\n\u001b[0;32m----> 1\u001b[0;31m \u001b[0;32mfrom\u001b[0m \u001b[0mrxnSMILES4AtomEco\u001b[0m \u001b[0;32mimport\u001b[0m \u001b[0matom_economy\u001b[0m\u001b[0;34m\u001b[0m\u001b[0;34m\u001b[0m\u001b[0m\n\u001b[0m\u001b[1;32m      2\u001b[0m \u001b[0;34m\u001b[0m\u001b[0m\n\u001b[1;32m      3\u001b[0m \u001b[0;31m# calculate Verbose mode\u001b[0m\u001b[0;34m\u001b[0m\u001b[0;34m\u001b[0m\u001b[0m\n\u001b[1;32m      4\u001b[0m \u001b[0matom_economy\u001b[0m\u001b[0;34m(\u001b[0m\u001b[0;34m\"{2}C=CC.O=O>Pd/Cu>{2}CC(C)=O\"\u001b[0m\u001b[0;34m)\u001b[0m\u001b[0;34m\u001b[0m\u001b[0;34m\u001b[0m\u001b[0m\n",
      "\u001b[0;32m~/repos/rxnSMILES4AtomEco.acs.jchemed/rxnSMILES4AtomEco.py\u001b[0m in \u001b[0;36m<module>\u001b[0;34m\u001b[0m\n\u001b[0;32m----> 1\u001b[0;31m \u001b[0;32mfrom\u001b[0m \u001b[0mrdkit\u001b[0m \u001b[0;32mimport\u001b[0m \u001b[0mChem\u001b[0m\u001b[0;34m\u001b[0m\u001b[0;34m\u001b[0m\u001b[0m\n\u001b[0m\u001b[1;32m      2\u001b[0m \u001b[0;32mfrom\u001b[0m \u001b[0mrdkit\u001b[0m\u001b[0;34m.\u001b[0m\u001b[0mChem\u001b[0m \u001b[0;32mimport\u001b[0m \u001b[0mDescriptors\u001b[0m\u001b[0;34m\u001b[0m\u001b[0;34m\u001b[0m\u001b[0m\n\u001b[1;32m      3\u001b[0m \u001b[0;32mfrom\u001b[0m \u001b[0mrdkit\u001b[0m \u001b[0;32mimport\u001b[0m \u001b[0mRDLogger\u001b[0m\u001b[0;34m\u001b[0m\u001b[0;34m\u001b[0m\u001b[0m\n\u001b[1;32m      4\u001b[0m \u001b[0;32mimport\u001b[0m \u001b[0margparse\u001b[0m\u001b[0;34m\u001b[0m\u001b[0;34m\u001b[0m\u001b[0m\n\u001b[1;32m      5\u001b[0m \u001b[0;32mimport\u001b[0m \u001b[0mre\u001b[0m\u001b[0;34m\u001b[0m\u001b[0;34m\u001b[0m\u001b[0m\n",
      "\u001b[0;31mModuleNotFoundError\u001b[0m: No module named 'rdkit'"
     ]
    }
   ],
   "source": [
    "from rxnSMILES4AtomEco import atom_economy\n",
    "\n",
    "# calculate Verbose mode\n",
    "atom_economy(\"{2}C=CC.O=O>Pd/Cu>{2}CC(C)=O\")"
   ]
  },
  {
   "cell_type": "code",
   "execution_count": null,
   "id": "a25095c5-a670-44f1-9b46-4d8a4b2c7020",
   "metadata": {},
   "outputs": [],
   "source": [
    "reactions_smiles_pathway = {\n",
    "    \"CC(C)(OO)c1ccccc1>acid>CC(C)=O\": \"Cumene\",  # Cumene hydroperoxide decomposition\n",
    "    \"CC(C)O>Cu>CC(C)=O\": \"Isopropanol\",          # Isopropanol dehydrogenation\n",
    "    \"{2}C=CC.O=O>Pd/Cu>{2}CC(C)=O\": \"Propene\"   # Propene oxidation\n",
    "}"
   ]
  },
  {
   "cell_type": "code",
   "execution_count": null,
   "id": "0aff095c-9be3-42fa-812a-b754d12c4d5f",
   "metadata": {},
   "outputs": [],
   "source": [
    "from rxnSMILES4AtomEco import get_atom_economy\n",
    "\n",
    "# Store results\n",
    "results_paths = {}\n",
    "\n",
    "# Loop through pathways and calculate atom economy\n",
    "for smiles, name in reactions_smiles_pathway.items():\n",
    "    results_paths[name] = get_atom_economy(smiles)\n",
    "\n",
    "# Print results\n",
    "for pathway, value in results_paths.items():\n",
    "    print(f\"{value:.1f}% {pathway}\")"
   ]
  },
  {
   "cell_type": "code",
   "execution_count": null,
   "id": "475920cc-26d1-4060-b0af-4891cf91fe48",
   "metadata": {},
   "outputs": [],
   "source": [
    "import matplotlib.pyplot as plt\n",
    "\n",
    "# Extract labels (pathway names) and values (atom economy)\n",
    "pathways = list(results_paths.keys())  # Labels for x-axis\n",
    "atom_economy_values = list(results_paths.values())  # Y-axis values\n",
    "\n",
    "# Calculate byproducts as (100 - atom economy)\n",
    "byproduct_values = [100 - value for value in atom_economy_values]\n",
    "\n",
    "# Create a single plot\n",
    "fig, ax = plt.subplots(figsize=(10, 7))  # Single axis for both plots\n",
    "plt.rcParams.update({'font.size': 16})\n",
    "\n",
    "# Plot bars: green for desired product, orange for byproducts\n",
    "bars = ax.bar(pathways, atom_economy_values, color='#009E73', label=\"Desired Product\", alpha=0.8)\n",
    "ax.bar(pathways, byproduct_values, bottom=atom_economy_values, color='#E69F00', label=\"Byproduct(s)\", alpha=0.8)\n",
    "\n",
    "# Annotate bars with atom economy percentages\n",
    "for bar in bars:\n",
    "    height = bar.get_height()\n",
    "    ax.text(bar.get_x() + bar.get_width()/2, height/2, f'{height:.1f}%', \n",
    "            ha='center', va='center', color='white', fontweight='bold')\n",
    "\n",
    "# Titles & labels\n",
    "ax.set_title(\"Acetone Atom Economy Across Pathways\\n\\n\\n\")\n",
    "ax.set_xlabel(\"\\nSynthesis Pathways\")\n",
    "ax.set_ylabel(\"Atom Economy (%)\")\n",
    "ax.set_ylim(0, 100)  # Limit y-axis to 100%\n",
    "\n",
    "ax.legend(loc='upper center', bbox_to_anchor=(0.5, 1.2), ncol=2,reverse=True)\n",
    "\n",
    "# Improve layout\n",
    "plt.tight_layout()\n",
    "\n",
    "# Show the plot\n",
    "plt.show()\n",
    "\n",
    "# Save the plot\n",
    "#save_path = '/tmp/acetone_histogram.png'  # Writable on many systems\n",
    "#plt.draw()  # Force render\n",
    "#print(f\"Saving to: {save_path}\")\n",
    "#plt.savefig(save_path, dpi=300, bbox_inches='tight')\n",
    "#plt.close()\n",
    "#print(\"Save completed (check directory).\")"
   ]
  },
  {
   "cell_type": "code",
   "execution_count": null,
   "id": "0e0cdc9f-9484-4d4c-afc7-47eab807354b",
   "metadata": {},
   "outputs": [],
   "source": [
    "# Ask user for confirmation\n",
    "run_script = input(\"\\n(▀̿Ĺ̯▀̿ ̿) Do you want to execute the reaction processing? [Y/n]:\\n\\n\").strip().lower()\n",
    "\n",
    "# Only proceed if the user agrees\n",
    "if run_script in [\"\", \"y\", \"yes\"]:  # Default to \"yes\" if empty input\n",
    "    from rdkit import Chem\n",
    "    from rdkit.Chem import Draw\n",
    "    from rdkit.Chem import rdChemReactions\n",
    "    from PIL import Image\n",
    "    import re\n",
    "    import os\n",
    "\n",
    "    # Output folder\n",
    "    #output_dir = \"/tmp/reactions\"  # Change as needed\n",
    "    output_dir = \"\"  # Change as needed\n",
    "    \n",
    "    # Function to clean and expand reaction SMILES\n",
    "    def process_smiles(smiles):\n",
    "        # Remove reagents/catalysts (text between \">...>\")\n",
    "        cleaned_smiles = re.sub(r'>[^>]+>', '>>', smiles)\n",
    "    \n",
    "        # Expand {n} notation: \"{2}C=CC\" → \"C=CC.C=CC\"\n",
    "        def expand_match(match):\n",
    "            n = int(match.group(1))  # Extract number\n",
    "            molecule = match.group(2)  # Extract SMILES\n",
    "            return \".\".join([molecule] * n)  # If stoichiometric coefficient found, repeat SMILES n times (works only with integer coefficients!)\n",
    "    \n",
    "        expanded_smiles = re.sub(r'\\{(\\d+)\\}([A-Za-z0-9@+\\-=#()\\[\\]]+)', expand_match, cleaned_smiles)\n",
    "        \n",
    "        return expanded_smiles\n",
    "    \n",
    "    # Loop through each reaction and plot separately\n",
    "    for reaction_smiles, name in reactions_smiles_pathway.items():\n",
    "        cleaned_smiles = process_smiles(reaction_smiles)  # Process SMILES\n",
    "        print(f\"Processing: {name}, SMILES: {cleaned_smiles}\")\n",
    "    \n",
    "        try:\n",
    "            # Convert to RDKit reaction object\n",
    "            reaction = rdChemReactions.ReactionFromSmarts(cleaned_smiles, useSmiles=True)\n",
    "    \n",
    "            # Generate reaction image\n",
    "            img = Draw.ReactionToImage(reaction, subImgSize=(300, 300))\n",
    "    \n",
    "            # Save path\n",
    "            save_path = os.path.join(output_dir, f\"{name}.png\")\n",
    "            img.save(save_path, format=\"PNG\", dpi=(300, 300))\n",
    "    \n",
    "            print(f\"Saved: {save_path}\")\n",
    "    \n",
    "        except Exception as e:\n",
    "            print(f\"Error processing {name}: {e}\")\n",
    "\n",
    "else:\n",
    "    print(\"Script execution skipped.\")"
   ]
  }
 ],
 "metadata": {
  "kernelspec": {
   "display_name": "Python 3 (ipykernel)",
   "language": "python",
   "name": "python3"
  },
  "language_info": {
   "codemirror_mode": {
    "name": "ipython",
    "version": 3
   },
   "file_extension": ".py",
   "mimetype": "text/x-python",
   "name": "python",
   "nbconvert_exporter": "python",
   "pygments_lexer": "ipython3",
   "version": "3.10.12"
  }
 },
 "nbformat": 4,
 "nbformat_minor": 5
}
