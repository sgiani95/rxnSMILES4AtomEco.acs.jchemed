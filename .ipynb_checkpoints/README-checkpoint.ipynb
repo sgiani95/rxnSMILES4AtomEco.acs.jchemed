{
 "cells": [
  {
   "cell_type": "markdown",
   "id": "036bdfb1-d893-4328-9cf2-9d65e1623191",
   "metadata": {},
   "source": [
    "### rxnSMILES4AtomEco:\n",
    "rxnSMILES4AtomEco is a package that provides functions to calculate the atom economy of chemical reactions using reaction SMILES.\n",
    "\n",
    "### Features:\n",
    "- Calculation of atom economy for reactions\n",
    "- Handling of multiple reactions in a single calculation\n",
    "- Support for different types of reaction SMILES\n",
    "- Programmatic output of atom economy numerical value: verbose- and numberic output.\n",
    "    \n",
    "### Usage:\n",
    "To use the package, simply import the relevant functions and provide reaction SMILES as input."
   ]
  },
  {
   "cell_type": "markdown",
   "id": "b34943fa-2fff-4257-9b39-199f1f1b5d45",
   "metadata": {},
   "source": [
    "### Example verbose output:\n",
    "\n",
    "```python\n",
    "from rxnSMILES4AtomEco import atom_economy\n",
    "reactions_smiles = \"C.O>catalyst>{3}[HH]\"\n",
    "atom_economy(reactions_smiles)\n"
   ]
  },
  {
   "cell_type": "code",
   "execution_count": null,
   "id": "15f1778d-aca9-42be-8b67-b477c15be171",
   "metadata": {},
   "outputs": [],
   "source": [
    "from rxnSMILES4AtomEco import atom_economy\n",
    "reactions_smiles = \"C.O>catalyst>{3}[HH]\"\n",
    "atom_economy(reactions_smiles)"
   ]
  },
  {
   "cell_type": "markdown",
   "id": "e7871559-baad-4e89-a1fb-b29645a4e202",
   "metadata": {},
   "source": [
    "### Example numeric output:\n",
    "```python  \n",
    "from rxnSMILES4AtomEco import get_atom_economy\n",
    "reactions_smiles = \"C.O>catalyst>{3}[HH]\"\n",
    "value = get_atom_economy(reactions_smiles)\n",
    "print(value)"
   ]
  },
  {
   "cell_type": "code",
   "execution_count": null,
   "id": "15781982-3a9e-4751-908d-049efee7dff5",
   "metadata": {},
   "outputs": [],
   "source": [
    "from rxnSMILES4AtomEco import get_atom_economy\n",
    "reactions_smiles = \"C.O>catalyst>{3}[HH]\"\n",
    "value = get_atom_economy(reactions_smiles)\n",
    "print(value)"
   ]
  }
 ],
 "metadata": {
  "kernelspec": {
   "display_name": "Python 3 (ipykernel)",
   "language": "python",
   "name": "python3"
  },
  "language_info": {
   "codemirror_mode": {
    "name": "ipython",
    "version": 3
   },
   "file_extension": ".py",
   "mimetype": "text/x-python",
   "name": "python",
   "nbconvert_exporter": "python",
   "pygments_lexer": "ipython3",
   "version": "3.8.10"
  }
 },
 "nbformat": 4,
 "nbformat_minor": 5
}
