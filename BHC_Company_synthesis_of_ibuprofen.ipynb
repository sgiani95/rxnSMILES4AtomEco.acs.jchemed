{
 "cells": [
  {
   "cell_type": "markdown",
   "id": "4f38d0e8-cc3e-41e4-9472-0b981b389eea",
   "metadata": {},
   "source": [
    "### The BHC Company synthesis of ibuprofen (1990's): the green synthesis\n",
    "\n",
    "CC(C)Cc1ccccc1.CC(=O)OC(C)=O>F>CC(=O)c1ccc(CC(C)C)cc1\\\n",
    "CC(=O)c1ccc(CC(C)C)cc1.[HH]>Ni-Raney>CC(C)Cc1ccc(C(C)O)cc1\\\n",
    "CC(C)Cc1ccc(C(C)O)cc1.[C-]#[O+]>Pd>CC(C)Cc1ccc(C(C)C(=O)O)cc1"
   ]
  },
  {
   "cell_type": "code",
   "execution_count": null,
   "id": "cc0fd5fa-ad01-45e5-8fa7-db5ff4a00ef4",
   "metadata": {},
   "outputs": [],
   "source": [
    "from rxnSMILES4AtomEco import atom_economy\n",
    "\n",
    "#use triple quotes (\"\"\") to define a multiline string\n",
    "reactions_smiles = \"\"\"CC(C)Cc1ccccc1.CC(=O)OC(C)=O>F>CC(=O)c1ccc(CC(C)C)cc1\n",
    "CC(=O)c1ccc(CC(C)C)cc1.[HH]>Ni-Raney>CC(C)Cc1ccc(C(C)O)cc1\n",
    "CC(C)Cc1ccc(C(C)O)cc1.[C-]#[O+]>Pd>CC(C)Cc1ccc(C(C)C(=O)O)cc1\"\"\"\n",
    "atom_economy(reactions_smiles)"
   ]
  },
  {
   "cell_type": "markdown",
   "id": "93f5d4ec-b20b-4002-ba3c-09ef6566132b",
   "metadata": {},
   "source": [
    "---\n",
    "Calculate atom economy for individual synthesis steps\n",
    "\n",
    "---"
   ]
  },
  {
   "cell_type": "code",
   "execution_count": null,
   "id": "79a3a7bf-4469-4da0-8d06-752990010ab7",
   "metadata": {},
   "outputs": [],
   "source": [
    "from rxnSMILES4AtomEco import get_atom_economy\n",
    "# value = get_atom_economy(reactions_smiles)\n",
    "# print(value)\n",
    "\n",
    "# Split reactions_smiles into lines\n",
    "lines = reactions_smiles.splitlines()\n",
    "\n",
    "# Create a dictionary to store the results\n",
    "results_individual = {}\n",
    "\n",
    "# Loop through each line and call get_atom_economy for each one\n",
    "for i, line in enumerate(lines):\n",
    "    step_key = f\"step_{i+1}\"  # Create step_1, step_2, ..., step_n\n",
    "    results_individual[step_key] = get_atom_economy(line)  # Call your function and store the result\n",
    "\n",
    "# Now, 'results' contains the results for each line, e.g., results[\"step_1\"], results[\"step_2\"], etc.\n",
    "\n",
    "# Example: Print all results\n",
    "for step, result_individual in results_individual.items():\n",
    "    print(f\"{step}: {result_individual:.2f}%\")"
   ]
  },
  {
   "cell_type": "markdown",
   "id": "fe06b0dc-6e77-4331-bd91-2f8e7520f5d0",
   "metadata": {},
   "source": [
    "---\n",
    "Calculate atom economy for cumulative synthesis steps\n",
    "\n",
    "---"
   ]
  },
  {
   "cell_type": "code",
   "execution_count": null,
   "id": "dfb218e9-662b-4d48-9a9c-2f0f082966fa",
   "metadata": {},
   "outputs": [],
   "source": [
    "# Split reactions_smiles into lines\n",
    "lines = reactions_smiles.splitlines()\n",
    "\n",
    "# Create a dictionary to store the results\n",
    "results_cumulative = {}\n",
    "\n",
    "# Loop through each incremental combination of lines and call get_atom_economy\n",
    "for i in range(1, len(lines) + 1):  # Start from 1 to n\n",
    "    # Get the first i lines\n",
    "    combined_reactions = \"\\n\".join(lines[:i])\n",
    "    \n",
    "    # Call get_atom_economy with the combined lines up to the current step\n",
    "    step_key = f\"step_{i}\"\n",
    "    results_cumulative[step_key] = get_atom_economy(combined_reactions)  # Store the result\n",
    "    \n",
    "    # Example: Print the current step's result\n",
    "    print(f\"{step_key}: {results_cumulative[step_key]:.2f}%\")"
   ]
  },
  {
   "cell_type": "markdown",
   "id": "43428da5-92f7-460b-8455-dd7d2123ef38",
   "metadata": {},
   "source": [
    "---\n",
    "Multiplot of individual and cumulative atom economy\n",
    "\n",
    "---"
   ]
  },
  {
   "cell_type": "code",
   "execution_count": null,
   "id": "6fe3a170-6d9f-441d-9933-eb4f1352d749",
   "metadata": {},
   "outputs": [],
   "source": [
    "import matplotlib.pyplot as plt\n",
    "\n",
    "# Assuming you already have 'results_individual' and 'results_cumulative' dictionaries\n",
    "\n",
    "# Create a single plot\n",
    "fig, ax = plt.subplots(figsize=(10, 6))  # Single axis for both plots\n",
    "\n",
    "# Extract the steps (x-axis) and Atom Economy values (y-axis) for both individual and cumulative\n",
    "steps = list(results_individual.keys())  # Step names: ['step_1', 'step_2', ...]\n",
    "individual_values = list(results_individual.values())  # Atom Economy values for individual reactions\n",
    "cumulative_values = list(results_cumulative.values())  # Atom Economy values for cumulative reactions\n",
    "\n",
    "# Calculate the Byproduct(s) as the difference between 100% and the desired product\n",
    "byproduct_values = [100 - value for value in individual_values]\n",
    "\n",
    "# Plot the stem plot for cumulative Atom Economy values in black\n",
    "ax.stem(steps, cumulative_values, linefmt='k:', markerfmt='k>:', basefmt=\" \", label=\"Cumulative Atom Economy\").markerline.set_markersize(10)\n",
    "\n",
    "# Bar plot for individual Atom Economy values\n",
    "bars = ax.bar(steps, individual_values, color='#009E73', label=\"Desired product\", alpha=0.8)  # Green bars\n",
    "ax.bar(steps, byproduct_values, bottom=individual_values, color='#E69F00', label=\"Byproduct(s)\", alpha=0.8)  # Orange stacked bars\n",
    "\n",
    "# Add the text (value of desired product) in white in the middle of each bar\n",
    "for i, bar in enumerate(bars):\n",
    "    height = bar.get_height()\n",
    "    ax.text(bar.get_x() + bar.get_width() / 2, height / 2, f'{height:.1f}%', \n",
    "             ha='center', va='center', color='white', fontweight='bold')\n",
    "\n",
    "# Add labels and titles\n",
    "ax.set_title('Atom Economy: Individual- and Cumulative Steps\\n\\n')\n",
    "ax.set_xlabel('\\nSteps')\n",
    "ax.set_ylabel('Atom Economy (%)')\n",
    "ax.set_ylim(0, 100)  # Set Y-axis from 0 to 100%\n",
    "ax.tick_params(axis='x', rotation=45)  # Rotate x-axis labels for better readability\n",
    "\n",
    "# Add the legend\n",
    "ax.legend(loc='upper center', bbox_to_anchor=(0.5, 1.1), ncol=3,reverse=True)\n",
    "\n",
    "# Improve layout to avoid label overlap\n",
    "plt.tight_layout()\n",
    "\n",
    "# Show the plot\n",
    "plt.show()"
   ]
  }
 ],
 "metadata": {
  "kernelspec": {
   "display_name": "Python 3 (ipykernel)",
   "language": "python",
   "name": "python3"
  },
  "language_info": {
   "codemirror_mode": {
    "name": "ipython",
    "version": 3
   },
   "file_extension": ".py",
   "mimetype": "text/x-python",
   "name": "python",
   "nbconvert_exporter": "python",
   "pygments_lexer": "ipython3",
   "version": "3.12.3"
  }
 },
 "nbformat": 4,
 "nbformat_minor": 5
}
