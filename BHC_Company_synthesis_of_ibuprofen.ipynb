{
 "cells": [
  {
   "cell_type": "markdown",
   "id": "210ae32c-766a-40a0-bbd2-d2155827bd44",
   "metadata": {},
   "source": [
    "### The BHC Company synthesis of ibuprofen (1990's): the green synthesis\n",
    "\n",
    "CC(C)Cc1ccccc1.CC(=O)OC(C)=O>F>CC(=O)c1ccc(CC(C)C)cc1\\\n",
    "CC(=O)c1ccc(CC(C)C)cc1.[HH]>Ni-Raney>CC(C)Cc1ccc(C(C)O)cc1\\\n",
    "CC(C)Cc1ccc(C(C)O)cc1.[C-]#[O+]>Pd>CC(C)Cc1ccc(C(C)C(=O)O)cc1"
   ]
  },
  {
   "cell_type": "code",
   "execution_count": null,
   "id": "0d1b33e6-d498-4cee-95df-02444b6a7097",
   "metadata": {},
   "outputs": [],
   "source": [
    "from rxnSMILES4AtomEco import atom_economy\n",
    "\n",
    "#use triple quotes (\"\"\") to define a multiline string\n",
    "reactions_smiles = \"\"\"CC(C)Cc1ccccc1.CC(=O)OC(C)=O>F>CC(=O)c1ccc(CC(C)C)cc1\n",
    "CC(=O)c1ccc(CC(C)C)cc1.[HH]>Ni-Raney>CC(C)Cc1ccc(C(C)O)cc1\n",
    "CC(C)Cc1ccc(C(C)O)cc1.[C-]#[O+]>Pd>CC(C)Cc1ccc(C(C)C(=O)O)cc1\"\"\"\n",
    "atom_economy(reactions_smiles)"
   ]
  },
  {
   "cell_type": "markdown",
   "id": "3c8fde2a-571a-4665-9df9-8a045021ecfb",
   "metadata": {},
   "source": [
    "#### Calculate atom economy for individual synthesis steps"
   ]
  },
  {
   "cell_type": "code",
   "execution_count": null,
   "id": "b8de4a40-04ac-49f1-933c-5ddc8515bb26",
   "metadata": {},
   "outputs": [],
   "source": [
    "from rxnSMILES4AtomEco import get_atom_economy\n",
    "# value = get_atom_economy(reactions_smiles)\n",
    "# print(value)\n",
    "\n",
    "# Split reactions_smiles into lines\n",
    "lines = reactions_smiles.splitlines()\n",
    "\n",
    "# Create a dictionary to store the results\n",
    "results_individual = {}\n",
    "\n",
    "# Loop through each line and call get_atom_economy for each one\n",
    "for i, line in enumerate(lines):\n",
    "    # Create Step 1, Step 2, ..., Step n\n",
    "    step_key = f\"Step {i+1}\"\n",
    "    # Call the function and store the result\n",
    "    results_individual[step_key] = get_atom_economy(line)\n",
    "\n",
    "# Now, 'results' contains the results for each line, e.g., \\\n",
    "# results[\"Step 1\"], results[\"Step 2\"], etc.\n",
    "\n",
    "# Example: Print all results\n",
    "for step, result_individual in results_individual.items():\n",
    "    print(f\"{step}: {result_individual:.1f}%\")"
   ]
  },
  {
   "cell_type": "markdown",
   "id": "f3acf3f4-38ab-42ae-bf02-3babd340840d",
   "metadata": {},
   "source": [
    "#### Calculate atom economy for cumulative synthesis steps"
   ]
  },
  {
   "cell_type": "code",
   "execution_count": null,
   "id": "c510080f-08bb-45f3-bbae-724d0f8df890",
   "metadata": {},
   "outputs": [],
   "source": [
    "# Split reactions_smiles into lines\n",
    "lines = reactions_smiles.splitlines()\n",
    "\n",
    "# Create a dictionary to store the results\n",
    "results_cumulative = {}\n",
    "\n",
    "# Loop through each incremental combination of lines and call get_atom_economy\n",
    "# Start from 1 to n\n",
    "for i in range(1, len(lines) + 1): \n",
    "    # Get the first i lines\n",
    "    combined_reactions = \"\\n\".join(lines[:i])\n",
    "    \n",
    "    # Call get_atom_economy with the combined lines up to the current step\n",
    "    step_key = f\"Step {i}\"\n",
    "    # Store the result\n",
    "    results_cumulative[step_key] = get_atom_economy(combined_reactions)\n",
    "    \n",
    "    # Example: Print the current step's result\n",
    "    print(f\"{step_key}: {results_cumulative[step_key]:.1f}%\")"
   ]
  },
  {
   "cell_type": "markdown",
   "id": "0c5bf30f-b4db-4a21-b7c6-01701808fe78",
   "metadata": {},
   "source": [
    "#### Multiplot of individual and cumulative atom economy"
   ]
  },
  {
   "cell_type": "code",
   "execution_count": null,
   "id": "655fb9d7-e930-437d-934a-ff29bae4e13b",
   "metadata": {},
   "outputs": [],
   "source": [
    "import matplotlib.pyplot as plt\n",
    "\n",
    "# Extract the steps (x-axis) and Atom Economy values (y-axis) for \\\n",
    "# both individual and cumulative\n",
    "\n",
    "# Step names: ['step_1', 'step_2', ...]\n",
    "steps = list(results_individual.keys())\n",
    "# Atom Economy values for individual reactions\n",
    "individual_values = list(results_individual.values())\n",
    "# Atom Economy values for cumulative reactions\n",
    "cumulative_values = list(results_cumulative.values())\n",
    "\n",
    "# Calculate the Byproduct(s) as the difference between 100% \\\n",
    "# and the desired product\n",
    "byproduct_values = [100 - value for value in individual_values]\n",
    "\n",
    "# Create a single plot\n",
    "\n",
    "# Single axis for both plots\n",
    "fig, ax = plt.subplots(figsize=(10, 7))\n",
    "plt.rcParams.update({'font.size': 16})\n",
    "\n",
    "# Plot the stem plot for cumulative Atom Economy values in black\n",
    "ax.stem(steps, cumulative_values, linefmt='k:', markerfmt='k>:', basefmt=\" \", \\\n",
    "        label=\"Cumulative Atom Economy\").markerline.set_markersize(10)\n",
    "\n",
    "# Bar plot for individual Atom Economy values\n",
    "bars = ax.bar(steps, individual_values, color='#009E73', \\\n",
    "              label=\"Desired product\", alpha=0.8)  # Green bars\n",
    "ax.bar(steps, byproduct_values, bottom=individual_values, color='#E69F00', \\\n",
    "       label=\"Byproduct(s)\", alpha=0.8)  # Orange stacked bars\n",
    "\n",
    "# Add the text (value of desired product) in white in the middle of each bar\n",
    "for i, bar in enumerate(bars):\n",
    "    height = bar.get_height()\n",
    "    ax.text(bar.get_x() + bar.get_width() / 2, height / 2, f'{height:.1f}%', \n",
    "             ha='center', va='center', color='white', fontweight='bold')\n",
    "\n",
    "# Add labels and titles\n",
    "ax.set_title('BHC Atom Economy: Individual- and Cumulative Steps\\n\\n\\n')\n",
    "ax.set_xlabel('\\nSteps')\n",
    "ax.set_ylabel('Atom Economy (%)')\n",
    "# Set Y-axis from 0 to 100%\n",
    "ax.set_ylim(0, 100)\n",
    "\n",
    "# Add the legend\n",
    "ax.legend(loc='upper center', bbox_to_anchor=(0.5, 1.2), ncol=3,reverse=True)\n",
    "\n",
    "# Improve layout to avoid label overlap\n",
    "plt.tight_layout()\n",
    "\n",
    "# Show the plot\n",
    "plt.show()\n",
    "# To save the plot, if used, comment line above and uncomment lines below\n",
    "#save_path = '/tmp/BHC_histogram.png'  # Writable on many systems\n",
    "#plt.draw()  # Force render\n",
    "#print(f\"Saving to: {save_path}\")\n",
    "#plt.savefig(save_path, dpi=300, bbox_inches='tight')\n",
    "#plt.close()\n",
    "#print(\"Save completed (check directory).\")"
   ]
  }
 ],
 "metadata": {
  "kernelspec": {
   "display_name": "Python 3",
   "language": "python",
   "name": "python3"
  },
  "language_info": {
   "codemirror_mode": {
    "name": "ipython",
    "version": 3
   },
   "file_extension": ".py",
   "mimetype": "text/x-python",
   "name": "python",
   "nbconvert_exporter": "python",
   "pygments_lexer": "ipython3",
   "version": "3.8.10"
  }
 },
 "nbformat": 4,
 "nbformat_minor": 5
}
