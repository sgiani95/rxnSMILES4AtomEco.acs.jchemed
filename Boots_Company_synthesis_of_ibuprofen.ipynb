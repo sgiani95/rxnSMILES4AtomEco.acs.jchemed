{
 "cells": [
  {
   "cell_type": "markdown",
   "id": "832cd554-578e-4fa5-b8da-56a4d20b9fe2",
   "metadata": {},
   "source": [
    "### The Boots Company synthesis of ibuprofen (1960's)\n",
    "\n",
    "CC(C)Cc1ccccc1.CC(=O)OC(C)=O>[Al](Cl)(Cl)Cl>CC(=O)c1ccc(CC(C)C)cc1\\\n",
    "CC(=O)c1ccc(CC(C)C)cc1.[Na+].CC[O-].CCOC(=O)CCl>>CCOC(=O)C1OC1(C)c2ccc(CC(C)C)cc2\\\n",
    "CCOC(=O)C1OC1(C)c2ccc(CC(C)C)cc2.[OH3+]>>CC(C)Cc1ccc(C(C)C=O)cc1\\\n",
    "CC(C)Cc1ccc(C(C)C=O)cc1.NO>>CC(C)Cc1ccc(C(C)C=NO)cc1\\\n",
    "CC(C)Cc1ccc(C(C)C=NO)cc1>>CC(C)Cc1ccc(C(C)C#N)cc1\\\n",
    "CC(C)Cc1ccc(C(C)C#N)cc1.{2}O>>CC(C)Cc1ccc(C(C)C(=O)O)cc1"
   ]
  },
  {
   "cell_type": "code",
   "execution_count": null,
   "id": "ec0181f6-1b7c-406b-9e15-ea4582535559",
   "metadata": {},
   "outputs": [],
   "source": [
    "from rxnSMILES4AtomEco import atom_economy\n",
    "\n",
    "#use triple quotes (\"\"\") to define a multiline string\n",
    "reactions_smiles = \"\"\"CC(C)Cc1ccccc1.CC(=O)OC(C)=O>Al(Cl)Cl>CC(=O)c1ccc(CC(C)C)cc1\n",
    "CC(=O)c1ccc(CC(C)C)cc1.[Na+].CC[O-].CCOC(=O)CCl>>CCOC(=O)C1OC1(C)c2ccc(CC(C)C)cc2\n",
    "CCOC(=O)C1OC1(C)c2ccc(CC(C)C)cc2.[OH3+]>>CC(C)Cc1ccc(C(C)C=O)cc1\n",
    "CC(C)Cc1ccc(C(C)C=O)cc1.NO>>CC(C)Cc1ccc(C(C)C=NO)cc1\n",
    "CC(C)Cc1ccc(C(C)C=NO)cc1>>CC(C)Cc1ccc(C(C)C#N)cc1\n",
    "CC(C)Cc1ccc(C(C)C#N)cc1.{2}O>>CC(C)Cc1ccc(C(C)C(=O)O)cc1\"\"\"\n",
    "atom_economy(reactions_smiles)"
   ]
  },
  {
   "cell_type": "markdown",
   "id": "8b1ddda5-9431-4908-984c-1d39ff521ea9",
   "metadata": {},
   "source": [
    "---\n",
    "Calculate atom economy for individual synthesis steps\n",
    "\n",
    "---"
   ]
  },
  {
   "cell_type": "code",
   "execution_count": null,
   "id": "68cd6e47-24a0-4ec9-9dd0-326b0ce712d9",
   "metadata": {},
   "outputs": [],
   "source": [
    "from rxnSMILES4AtomEco import get_atom_economy\n",
    "# value = get_atom_economy(reactions_smiles)\n",
    "# print(value)\n",
    "\n",
    "# Split reactions_smiles into lines\n",
    "lines = reactions_smiles.splitlines()\n",
    "\n",
    "# Create a dictionary to store the results\n",
    "results_individual = {}\n",
    "\n",
    "# Loop through each line and call get_atom_economy for each one\n",
    "for i, line in enumerate(lines):\n",
    "    step_key = f\"Step {i+1}\"  # Create Step 1, Step 2, ..., Step n\n",
    "    results_individual[step_key] = get_atom_economy(line)  # Call your function and store the result\n",
    "\n",
    "# Now, 'results' contains the results for each line, e.g., results[\"Step 1\"], results[\"Step 2\"], etc.\n",
    "\n",
    "# Example: Print all results\n",
    "for step, result_individual in results_individual.items():\n",
    "    print(f\"{step}: {result_individual:.1f}%\")"
   ]
  },
  {
   "cell_type": "markdown",
   "id": "d876590d-94ab-405f-98c0-e1d629b5eae9",
   "metadata": {},
   "source": [
    "---\n",
    "Calculate atom economy for cumulative synthesis steps\n",
    "\n",
    "---"
   ]
  },
  {
   "cell_type": "code",
   "execution_count": null,
   "id": "817b35c6-5e2e-4e23-9163-d93b3f4a06c9",
   "metadata": {},
   "outputs": [],
   "source": [
    "# Split reactions_smiles into lines\n",
    "lines = reactions_smiles.splitlines()\n",
    "\n",
    "# Create a dictionary to store the results\n",
    "results_cumulative = {}\n",
    "\n",
    "# Loop through each incremental combination of lines and call get_atom_economy\n",
    "for i in range(1, len(lines) + 1):  # Start from 1 to n\n",
    "    # Get the first i lines\n",
    "    combined_reactions = \"\\n\".join(lines[:i])\n",
    "    \n",
    "    # Call get_atom_economy with the combined lines up to the current step\n",
    "    step_key = f\"Step_{i}\"\n",
    "    results_cumulative[step_key] = get_atom_economy(combined_reactions)  # Store the result\n",
    "    \n",
    "    # Example: Print the current step's result\n",
    "    print(f\"{step_key}: {results_cumulative[step_key]:.1f}%\")"
   ]
  },
  {
   "cell_type": "code",
   "execution_count": null,
   "id": "2df6009c-a01c-47b2-97c3-6fe9f7f2145b",
   "metadata": {},
   "outputs": [],
   "source": [
    "import matplotlib.pyplot as plt\n",
    "\n",
    "# Extract the steps (x-axis) and Atom Economy values (y-axis) for both individual and cumulative\n",
    "steps = list(results_individual.keys())  # Step names: ['step_1', 'step_2', ...]\n",
    "individual_values = list(results_individual.values())  # Atom Economy values for individual reactions\n",
    "cumulative_values = list(results_cumulative.values())  # Atom Economy values for cumulative reactions\n",
    "\n",
    "# Calculate the Byproduct(s) as the difference between 100% and the desired product\n",
    "byproduct_values = [100 - value for value in individual_values]\n",
    "\n",
    "# Create a single plot\n",
    "fig, ax = plt.subplots(figsize=(10, 7))  # Single axis for both plots\n",
    "plt.rcParams.update({'font.size': 16})\n",
    "\n",
    "# Plot the stem plot for cumulative Atom Economy values in black\n",
    "ax.stem(steps, cumulative_values, linefmt='k:', markerfmt='k>:', basefmt=\" \", label=\"Cumulative Atom Economy\").markerline.set_markersize(10)\n",
    "\n",
    "# Bar plot for individual Atom Economy values\n",
    "bars = ax.bar(steps, individual_values, color='#009E73', label=\"Desired product\", alpha=0.8)  # Green bars\n",
    "ax.bar(steps, byproduct_values, bottom=individual_values, color='#E69F00', label=\"Byproduct(s)\", alpha=0.8)  # Orange stacked bars\n",
    "\n",
    "# Add the text (value of desired product) in white in the middle of each bar\n",
    "for i, bar in enumerate(bars):\n",
    "    height = bar.get_height()\n",
    "    ax.text(bar.get_x() + bar.get_width() / 2, height / 2, f'{height:.1f}%', \n",
    "             ha='center', va='center', color='white', fontweight='bold')\n",
    "\n",
    "# Add labels and titles\n",
    "ax.set_title('Boots Atom Economy: Individual- and Cumulative Steps\\n\\n\\n')\n",
    "ax.set_xlabel('\\nSteps')\n",
    "ax.set_ylabel('Atom Economy (%)')\n",
    "ax.set_ylim(0, 100)  # Set Y-axis from 0 to 100%\n",
    "#ax.tick_params(axis='x', rotation=45)  # Rotate x-axis labels for better readability\n",
    "\n",
    "# Add the legend\n",
    "ax.legend(loc='upper center', bbox_to_anchor=(0.5, 1.2), ncol=3,reverse=True)\n",
    "\n",
    "# Improve layout to avoid label overlap\n",
    "plt.tight_layout()\n",
    "\n",
    "# Show the plot\n",
    "plt.show()\n",
    "\n",
    "# Save the plot\n",
    "#save_path = '/tmp/Boots_histogram.png'  # Writable on many systems\n",
    "#plt.draw()  # Force render\n",
    "#print(f\"Saving to: {save_path}\")\n",
    "#plt.savefig(save_path, dpi=300, bbox_inches='tight')\n",
    "#plt.close()\n",
    "#print(\"Save completed (check directory).\")"
   ]
  }
 ],
 "metadata": {
  "kernelspec": {
   "display_name": "Python 3 (ipykernel)",
   "language": "python",
   "name": "python3"
  },
  "language_info": {
   "codemirror_mode": {
    "name": "ipython",
    "version": 3
   },
   "file_extension": ".py",
   "mimetype": "text/x-python",
   "name": "python",
   "nbconvert_exporter": "python",
   "pygments_lexer": "ipython3",
   "version": "3.12.7"
  }
 },
 "nbformat": 4,
 "nbformat_minor": 5
}
