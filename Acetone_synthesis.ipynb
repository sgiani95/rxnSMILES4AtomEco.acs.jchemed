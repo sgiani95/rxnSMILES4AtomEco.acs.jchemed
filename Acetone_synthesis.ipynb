{
 "cells": [
  {
   "cell_type": "markdown",
   "id": "7d6f3e1a-85b2-4d73-bc62-f9268fb6d007",
   "metadata": {},
   "source": [
    "### The Acetone synthesis\n",
    "\n",
    "1. Cumene hydroperoxide decomposition\\\n",
    "CC(C)(OO)c1ccccc1>acid>CC(=O)C\n",
    "2. Isopropanol dehydrogenation\\\n",
    "CC(O)C>Cu>CC(=O)C\n",
    "3. Propene hydration/oxidation\\\n",
    "{2}C=CC.O=O>Pd/Cu>{2}CC(=O)C"
   ]
  },
  {
   "cell_type": "code",
   "execution_count": null,
   "id": "ca6fa84e-d17d-4ce0-8149-9c512d4e540a",
   "metadata": {},
   "outputs": [],
   "source": [
    "from rxnSMILES4AtomEco import atom_economy\n",
    "\n",
    "# calculate Verbose mode\n",
    "atom_economy(\"{2}C=CC.O=O>Pd/Cu>{2}CC(=O)C\")"
   ]
  },
  {
   "cell_type": "code",
   "execution_count": null,
   "id": "a25095c5-a670-44f1-9b46-4d8a4b2c7020",
   "metadata": {},
   "outputs": [],
   "source": [
    "reactions_smiles_pathway = {\n",
    "    \"CC(C)(OO)c1ccccc1>acid>CC(=O)C\": \"Cumene\",  # Cumene hydroperoxide decomposition\n",
    "    \"CC(O)C>Cu>CC(=O)C\": \"Isopropanol\",          # Isopropanol dehydrogenation\n",
    "    \"{2}C=CC.O=O>Pd/Cu>{2}CC(=O)C\": \"Propene\"   # Propene oxidation\n",
    "}"
   ]
  },
  {
   "cell_type": "code",
   "execution_count": null,
   "id": "0aff095c-9be3-42fa-812a-b754d12c4d5f",
   "metadata": {},
   "outputs": [],
   "source": [
    "from rxnSMILES4AtomEco import get_atom_economy\n",
    "\n",
    "# Store results\n",
    "results_paths = {}\n",
    "\n",
    "# Loop through pathways and calculate atom economy\n",
    "for smiles, name in reactions_smiles_pathway.items():\n",
    "    results_paths[name] = get_atom_economy(smiles)\n",
    "\n",
    "# Print results\n",
    "for pathway, value in results_paths.items():\n",
    "    print(f\"{value:.1f}% {pathway}\")"
   ]
  },
  {
   "cell_type": "code",
   "execution_count": null,
   "id": "475920cc-26d1-4060-b0af-4891cf91fe48",
   "metadata": {},
   "outputs": [],
   "source": [
    "import matplotlib.pyplot as plt\n",
    "\n",
    "# Extract labels (pathway names) and values (atom economy)\n",
    "pathways = list(results_paths.keys())  # Labels for x-axis\n",
    "atom_economy_values = list(results_paths.values())  # Y-axis values\n",
    "\n",
    "# Calculate byproducts as (100 - atom economy)\n",
    "byproduct_values = [100 - value for value in atom_economy_values]\n",
    "\n",
    "# Create a single plot\n",
    "fig, ax = plt.subplots(figsize=(10, 7))  # Single axis for both plots\n",
    "plt.rcParams.update({'font.size': 16})\n",
    "\n",
    "# Plot bars: green for desired product, orange for byproducts\n",
    "bars = ax.bar(pathways, atom_economy_values, color='#009E73', label=\"Desired Product\", alpha=0.8)\n",
    "ax.bar(pathways, byproduct_values, bottom=atom_economy_values, color='#E69F00', label=\"Byproduct(s)\", alpha=0.8)\n",
    "\n",
    "# Annotate bars with atom economy percentages\n",
    "for bar in bars:\n",
    "    height = bar.get_height()\n",
    "    ax.text(bar.get_x() + bar.get_width()/2, height/2, f'{height:.1f}%', \n",
    "            ha='center', va='center', color='white', fontweight='bold')\n",
    "\n",
    "# Titles & labels\n",
    "ax.set_title(\"Acetone Atom Economy Across Pathways\\n\\n\\n\")\n",
    "ax.set_xlabel(\"\\nSynthesis Pathways\")\n",
    "ax.set_ylabel(\"Atom Economy (%)\")\n",
    "ax.set_ylim(0, 100)  # Limit y-axis to 100%\n",
    "\n",
    "ax.legend(loc='upper center', bbox_to_anchor=(0.5, 1.2), ncol=2,reverse=True)\n",
    "\n",
    "# Improve layout\n",
    "plt.tight_layout()\n",
    "\n",
    "# Show the plot\n",
    "plt.show()\n",
    "\n",
    "# Save the plot\n",
    "#save_path = '/tmp/acetone_histogram.png'  # Writable on many systems\n",
    "#plt.draw()  # Force render\n",
    "#print(f\"Saving to: {save_path}\")\n",
    "#plt.savefig(save_path, dpi=300, bbox_inches='tight')\n",
    "#plt.close()\n",
    "#print(\"Save completed (check directory).\")"
   ]
  }
 ],
 "metadata": {
  "kernelspec": {
   "display_name": "Python 3 (ipykernel)",
   "language": "python",
   "name": "python3"
  },
  "language_info": {
   "codemirror_mode": {
    "name": "ipython",
    "version": 3
   },
   "file_extension": ".py",
   "mimetype": "text/x-python",
   "name": "python",
   "nbconvert_exporter": "python",
   "pygments_lexer": "ipython3",
   "version": "3.12.7"
  }
 },
 "nbformat": 4,
 "nbformat_minor": 5
}
